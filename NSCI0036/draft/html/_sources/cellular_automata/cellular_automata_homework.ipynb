{
 "cells": [
  {
   "cell_type": "markdown",
   "metadata": {},
   "source": [
    "# Homework\n",
    "\n",
    "Use your answer to {numref}`exercise_5_5` to create a Python notebook which simulates the Game of Life. The notebook should be well-organised with import statements, functions and executable code clearly separated.\n",
    "\n",
    "Investigate how the long-term behaviour of the simulation depends on the initial conditions. Can you find initial states that result in the following?  \n",
    "\n",
    "1. All life eventually dying out\n",
    "1. A pattern which eventually stays constant\n",
    "1. A pattern which eventually repeats in a cyclic manner\n",
    "1. A pattern which grows indefinitely\n",
    "\n",
    "Use markdown cells to clearly explain your answers.\n",
    "\n"
   ]
  }
 ],
 "metadata": {
  "kernelspec": {
   "display_name": "Python 3.7.9 64-bit (microsoft store)",
   "language": "python",
   "name": "python3"
  },
  "language_info": {
   "name": "python",
   "version": "3.7.9"
  },
  "orig_nbformat": 4,
  "vscode": {
   "interpreter": {
    "hash": "7f871366baaeb23d5e2a586caa18124c1371cc3d3832dcd001f8f599e1be9e29"
   }
  }
 },
 "nbformat": 4,
 "nbformat_minor": 2
}
