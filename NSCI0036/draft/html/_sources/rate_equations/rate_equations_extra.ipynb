{
 "cells": [
  {
   "cell_type": "markdown",
   "metadata": {},
   "source": [
    "# Exercises\n",
    "\n",
    ":::{exercise}\n",
    ":label: rate_equations_BZ_reaction\n",
    "\n",
    "<!-- https://www3.nd.edu/~powers/mcdowell.pdf -->\n",
    "\n",
    "The [Belousov–Zhabotinsky reaction](https://en.wikipedia.org/wiki/Belousov%E2%80%93Zhabotinsky_reaction), or BZ reaction, is a chemical reaction which exhibits non-equilbrium dynamics. Under certain conditions, the BZ reaction results in oscillatory behaviour, as demonstrated in [this video](https://www.youtube.com/watch?v=dMF4RjiITGM).\n",
    "\n",
    "The BZ reaction can be modelled by the following equations, where $X_i$ and $Y_i$ are the concentrations of the two reactants X (red) and Y (colourless) at timestep $i$. At each timestep, the concentrations of the two reactants change according to the difference equations below. Each timestep has a duration of one second.\n",
    "\n",
    "$$\\begin{align}\n",
    "X_{i+1} &= X_i + k_1-k_2X_i + k_3X_i^2Y_i\\\\\n",
    "Y_{i+1} &= Y_i + k_4X_i - k_3X_i^2Y_i\n",
    "\\end{align}$$\n",
    "\n",
    "1. Model the evolution of the chemical reaction for $300$ seconds, assuming the initial concentrations are zero, and using the parameter values $k_1=0.2,k_2 = 0.4, k_3 = 0.1\\mathrm{~and~}k_4 = 0.3$.\n",
    "2. Experiment with different values of $k_1$. For what range of values of $k_1$ does the reaction exhibit oscillations?\n",
    "\n",
    ":::\n",
    "\n",
    ":::{exercise} \n",
    ":label: rate_equations_extra_loops\n",
    "\n",
    "Use a `for` loop to produce the following output:\n",
    "1. `5, 7, 9, 11, 13, 15`\n",
    "1. `1, 10, 100, 1000, 10000, 100000`\n",
    "1. `0, 1, 2, 0, 1, 2, 0, 1, 2` (hint: use the `%` operator)\n",
    "\n",
    ":::\n",
    "\n",
    ":::{exercise}\n",
    ":label: rate_equations_extra_weather\n",
    "\n",
    "Look up the predicted daily maximum and minimum temperatures for the next 10 days according to the BBC weather forecast.\n",
    "\n",
    "https://www.bbc.co.uk/weather/2643743\n",
    "\n",
    "Create two arrays containing the maximum and minimum temperatures and plot them as two separate lines on a line graph, including axis labels and title. Look up how to add a legend in the [Matplotlib documentation](https://matplotlib.org/stable/users/index.html).\n",
    "\n",
    "```{image} temperatures.png\n",
    ":width: 300px\n",
    "```\n",
    "\n",
    ":::\n",
    "\n",
    ":::{exercise}\n",
    "\n",
    "Adapt your solution to the cannonball problem to incorporate air resistance. Assume that at each time step the x- and y-velocities each reduce by a fixed fraction $d$ (so that the velocity equations become $u_{i+1} = u_i - du_i$ and $v_{i+1} = v_i - g\\Delta t - dv_i$).\n",
    "\n",
    "For a given $d$, what value of $\\theta$ maximises the distance travelled by the cannonball? \n",
    ":::\n"
   ]
  }
 ],
 "metadata": {
  "kernelspec": {
   "display_name": "Python 3.7.9 64-bit (microsoft store)",
   "language": "python",
   "name": "python3"
  },
  "language_info": {
   "name": "python",
   "version": "3.7.9"
  },
  "orig_nbformat": 4,
  "vscode": {
   "interpreter": {
    "hash": "7f871366baaeb23d5e2a586caa18124c1371cc3d3832dcd001f8f599e1be9e29"
   }
  }
 },
 "nbformat": 4,
 "nbformat_minor": 2
}
