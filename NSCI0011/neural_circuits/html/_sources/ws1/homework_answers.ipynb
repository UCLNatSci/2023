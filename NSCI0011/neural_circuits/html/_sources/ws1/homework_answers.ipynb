{
 "cells": [
  {
   "attachments": {},
   "cell_type": "markdown",
   "metadata": {},
   "source": [
    "# Neural Circuits Homework\n",
    "\n",
    "**Results/objectives** Maximum score: 5 (see mark breakdown below)  \n",
    "These marks are awarded for submissions that produce the correct outputs. The code should run without errors and should fulfil the criteria set by the question. You must ensure that you include a written explanation of the output produced by your code.\n",
    "\n",
    "**Implementation/technique** Maximum score: 5  \n",
    "Marks are awarded here for demonstration of good coding practice. The code should be easy to follow. It should use methods/techniques demonstrated in the notes appropriately and correctly. Markers will also be looking out for code that is reasonably efficient, as this is important in the field of numerical methods. You must be able to explain/justify your method to the marker.\n",
    "\n",
    "## Question 1"
   ]
  },
  {
   "cell_type": "code",
   "execution_count": 7,
   "metadata": {},
   "outputs": [
    {
     "name": "stdout",
     "output_type": "stream",
     "text": [
      "x is the adjacency list of a directed graph: True\n"
     ]
    }
   ],
   "source": [
    "x = [[3], [11, 6, 5], [4, 11, 5], [0], [2, 6, 6], [12, 19, 2, 1],\n",
    "        [4, 17, 1, 4, 8],[14, 11], [6], [], [15, 11], [10, 2, 1, 16, 15, 7],\n",
    "        [5], [], [7], [10, 11], [11], [6, 19], [], [5, 17]]\n",
    "## 1\n",
    "\n",
    "# The following code loops over every edge in the graph.\n",
    "# For each edge i -> j it then checks if there exists an\n",
    "# edge j -> i.\n",
    "\n",
    "n = len(x)\n",
    "T = True\n",
    "for i in range(n):\n",
    "    for j in x[i]:\n",
    "        if not i in x[j]:\n",
    "            T = False\n",
    "            \n",
    "print(\"x is the adjacency list of a directed graph:\", T)"
   ]
  },
  {
   "attachments": {},
   "cell_type": "markdown",
   "metadata": {},
   "source": [
    "**1 mark** for a solution which works for any adjacency list.\n",
    "\n",
    "## Question 2"
   ]
  },
  {
   "cell_type": "code",
   "execution_count": 2,
   "metadata": {},
   "outputs": [
    {
     "name": "stdout",
     "output_type": "stream",
     "text": [
      "Connected component containing node 0: [0, 3]\n"
     ]
    }
   ],
   "source": [
    "# First We use the breadth first search to determine all nodes connected\n",
    "# to node 0\n",
    "\n",
    "\n",
    "def bfs(adj, i):\n",
    "    visited = [i]\n",
    "    frontier = [i]\n",
    "\n",
    "    while len(frontier) > 0:\n",
    "        next = frontier\n",
    "        frontier = []\n",
    "        for j in next:\n",
    "            neighbours = adj[j]\n",
    "            for k in neighbours:\n",
    "                if not k in visited:\n",
    "                    frontier.append(k)\n",
    "                    visited.append(k)\n",
    "    return visited\n",
    "\n",
    "comp1 = bfs(x, 0)\n",
    "print(\"Connected component containing node 0:\", comp1) # [0, 3]\n",
    "\n",
    "# The connected component containing node 0 consists of only nodes 0 and 3,\n",
    "# therefore node 0 is not connected to any other node.\n",
    "# For example, node 0 and node 1 are not connected by a path"
   ]
  },
  {
   "attachments": {},
   "cell_type": "markdown",
   "metadata": {},
   "source": [
    "**1 mark** for a solution which finds any pair of disconnected nodes (or a solution which finds all pairs of disconnected nodes).\n",
    "\n",
    "NB the function `bfs(adj, i)` is defined in the notes.\n",
    "\n",
    "## Question 3"
   ]
  },
  {
   "cell_type": "code",
   "execution_count": 3,
   "metadata": {},
   "outputs": [
    {
     "name": "stdout",
     "output_type": "stream",
     "text": [
      "Maximum distance: 5.0\n",
      "Node pairs with maximum path distance: [[14, 8], [14, 12], [17, 14], [19, 14]]\n"
     ]
    }
   ],
   "source": [
    "import numpy as np\n",
    "\n",
    "def path_distances(adj, i):\n",
    "    visited = [i]\n",
    "    frontier = [i]\n",
    "\n",
    "    distances = np.zeros(len(adj))\n",
    "    distances[:] = -1\n",
    "    distances[i] = 0\n",
    "    d = 0\n",
    "    while len(frontier) > 0:\n",
    "        d += 1 # increase d by 1 at each iteration\n",
    "        next = frontier\n",
    "        frontier = []\n",
    "        for j in next:\n",
    "            neighbours = adj[j]\n",
    "            for k in neighbours:\n",
    "                if not k in visited:\n",
    "                    frontier.append(k)\n",
    "                    visited.append(k)\n",
    "                    distances[k] = d\n",
    "    return distances\n",
    "\n",
    "# First create an n by n array\n",
    "# whose elements are the path distances\n",
    "# between node pairs\n",
    "n = len(x)\n",
    "distances = np.zeros((n, n))\n",
    "for i in range(n):\n",
    "    distances[i] = path_distances(x, i)\n",
    "\n",
    "# The maximum path distance is the maximum\n",
    "# of the array\n",
    "max_dis = np.max(distances)\n",
    "\n",
    "print(\"Maximum distance:\", max_dis)\n",
    "\n",
    "# Now loop over the array and determine all node\n",
    "# pairs with the maximum distance\n",
    "node_pairs = []\n",
    "for i in range(n):\n",
    "    for j in range(i-1):\n",
    "        if distances[i, j] == max_dis:\n",
    "            node_pairs.append([i, j])\n",
    "\n",
    "print(\"Node pairs with maximum path distance:\", node_pairs)"
   ]
  },
  {
   "attachments": {},
   "cell_type": "markdown",
   "metadata": {},
   "source": [
    "**1.5 marks** for a solution which finds all four pairs of nodes with path distance 5 (it is not necessary to state the distance). **1 mark** if only one node-pair is identified.\n",
    "\n",
    "NB in {nunmref}`exercise_path_distances_bfs` students were asked to determine the `path_distance` function by making a simple change to the `bfs` function.\n",
    "\n",
    "## Question 4"
   ]
  },
  {
   "cell_type": "code",
   "execution_count": 6,
   "metadata": {},
   "outputs": [
    {
     "name": "stdout",
     "output_type": "stream",
     "text": [
      "Graph components: [[0, 3], [1, 11, 6, 5, 10, 2, 16, 15, 7, 4, 17, 8, 12, 19, 14], [9], [13], [18]]\n"
     ]
    }
   ],
   "source": [
    "\n",
    "# Loop over every node in the graph, performing BFS\n",
    "# on each to determine its connected component.\n",
    "# Maintain a list of visited nodes and only perform\n",
    "# the BFS if the node hasn't already been visited.\n",
    "\n",
    "visited = []\n",
    "components = []\n",
    "for i in range(len(x)):\n",
    "    if not i in visited:\n",
    "        comp = bfs(x, i)\n",
    "        components.append(comp)\n",
    "        # these two lines could be replaced by\n",
    "        # visited.extend(comp)\n",
    "        for j in comp:\n",
    "            visited.append(j)\n",
    "\n",
    "print(\"Graph components:\", components)"
   ]
  },
  {
   "attachments": {},
   "cell_type": "markdown",
   "metadata": {},
   "source": [
    "**1.5 marks** for a solution which identifies the nodes in each of the 5 connected components. Subtract 0.5 marks if any components are repeated. Subtract 0.5 marks if the method is not entirely automated."
   ]
  }
 ],
 "metadata": {
  "kernelspec": {
   "display_name": "Python 3",
   "language": "python",
   "name": "python3"
  },
  "language_info": {
   "codemirror_mode": {
    "name": "ipython",
    "version": 3
   },
   "file_extension": ".py",
   "mimetype": "text/x-python",
   "name": "python",
   "nbconvert_exporter": "python",
   "pygments_lexer": "ipython3",
   "version": "3.7.9 (tags/v3.7.9:13c94747c7, Aug 17 2020, 18:58:18) [MSC v.1900 64 bit (AMD64)]"
  },
  "orig_nbformat": 4,
  "vscode": {
   "interpreter": {
    "hash": "7924ab759b3df5cb48bbab33739b019b840d790ae77db55f5a743ebfebcfdc3f"
   }
  }
 },
 "nbformat": 4,
 "nbformat_minor": 2
}
