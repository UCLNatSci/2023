{
 "cells": [
  {
   "attachments": {},
   "cell_type": "markdown",
   "metadata": {},
   "source": [
    "# Exercises\n",
    "\n",
    ":::{exercise}\n",
    "\n",
    "Determine the adjacency list of a cube\n",
    ":::\n",
    "\n",
    ":::{exercise}\n",
    "\n",
    "2\\. Recall that a *path* is a walk that does not contain any repeated nodes. Write a function `length_2_path(adj, i)` which returns a list of nodes that can be reached from node `i` by a length-2 path.\n",
    "\n",
    ":::\n",
    "\n",
    ":::{exercise}\n",
    "\n",
    ":::\n",
    "\n",
    ":::{exercise}\n",
    "\n",
    "The *reverse* of a directed graph is is the graph formed by reversing the directions of its edges.\n",
    "\n",
    "https://en.wikipedia.org/wiki/Transpose_graph\n",
    "\n",
    "1\\. Sketch the reverse of the directed graph of the egg-laying circuit and write down its adjacency list.\n",
    "2\\. Write a function `reverse(adj)` which reverses the adjaceny list `adj`. That is, if `adj` is the adjacency list of a directed graph, then `reverse(adj)` is the adjacency list of the reverse graph.\n",
    "3\\. Check that your function correctly reverses the adjacency list of the egg-laying circuit.\n",
    "\n",
    ":::"
   ]
  }
 ],
 "metadata": {
  "kernelspec": {
   "display_name": "Python 3",
   "language": "python",
   "name": "python3"
  },
  "language_info": {
   "name": "python",
   "version": "3.7.9 (tags/v3.7.9:13c94747c7, Aug 17 2020, 16:30:00) [MSC v.1900 64 bit (AMD64)]"
  },
  "orig_nbformat": 4,
  "vscode": {
   "interpreter": {
    "hash": "7f871366baaeb23d5e2a586caa18124c1371cc3d3832dcd001f8f599e1be9e29"
   }
  }
 },
 "nbformat": 4,
 "nbformat_minor": 2
}
